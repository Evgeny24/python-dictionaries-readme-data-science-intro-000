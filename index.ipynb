{
 "cells": [
  {
   "cell_type": "markdown",
   "metadata": {},
   "source": [
    "# Dictionaries "
   ]
  },
  {
   "cell_type": "markdown",
   "metadata": {},
   "source": [
    "### Introduction"
   ]
  },
  {
   "cell_type": "markdown",
   "metadata": {},
   "source": [
    "After introducing and working with Lists, we must be wondering if there are other kinds of collections in Python that we should know about. Well, there are! In this lesson, we will introduce **Dictionaries**. As we know, lists represent a collection of information that is ordered, like a list of the most watched TV shows.  However, in different situations, we may want our data to represent attributes of an entity, for example, the various attributes of a single TV show like its name, genre, starring actors, etc.  For this, we can use a **dictionary**. "
   ]
  },
  {
   "cell_type": "markdown",
   "metadata": {},
   "source": [
    "## Learning Objectives"
   ]
  },
  {
   "cell_type": "markdown",
   "metadata": {},
   "source": [
    "* Learn to decide when to use a dictionary or a list\n",
    "* Understand how a dictionary allows us to represent attributes with keys and values\n",
    "* Understand how to read a value from a dictionary\n",
    "* Understand how to assign a key-value pair to a dictionary"
   ]
  },
  {
   "cell_type": "markdown",
   "metadata": {},
   "source": [
    "## Why Use a Dictionary When We Have Lists?"
   ]
  },
  {
   "cell_type": "markdown",
   "metadata": {},
   "source": [
    "Okay, so, in this lesson we are going to be introducting not only a new type of collection in Python, but also a new datatype. Why? We already have lists, which we know we can use to keep groups of related data together. What is so great about dictionaries? Well, while lists are great, for *listing* information like we mentioned earlier, they can actually become very messy when we are trying to use them to organize data which is more a bit more complex. Let's look at a brief example of a person.\n",
    "\n",
    "Every person has a **name**, **age**, **height** (in inches), **weight** (in lbs), and **fav_lang**. How we would represent a person using a list?\n",
    "\n",
    "```python\n",
    "terrance = [\"Terrance\", 25, \"6'00\", 165, \"Python\"]\n",
    "```\n",
    "\n",
    "Now, that looks *fine* but what do we do if we want to tell someone terrance's fav programming language? We just have to ***remember*** that terrance's favorite programming language comes fifth in his list of information? What if he has more attributes than just the five that are listed (i.e. native_language, hometown, etc.)? What if his attributes are in a different order than we expected? We can see that this list would easily breakdown and cause more problems than it solves.\n",
    "\n",
    "However, if we use a dictionary, we can more neatly organize this information and make it easier for us to use as the dictionary grows. Let's see what terrance's information would look like using a dictionary.\n",
    "\n",
    "```python\n",
    "terrance = {'name': \"Terrance\", 'age': 25, 'weight': 72, 'height': 165, 'fav_lang': \"Python\"}\n",
    "```\n",
    "\n",
    "This dictionary definitely has more text in it, but we can see a direct association between the *attribute* or **key** and its correlated **value** (i.e. `{'key': \"value\"}`). This datatype makes it easier to store and access information, such as the attributes of a person or other entity.\n",
    "\n",
    "Let's take a deeper look at how dictionaries are built and how they work."
   ]
  },
  {
   "cell_type": "markdown",
   "metadata": {},
   "source": [
    "## Creating a dictionary, and retrieving attributes"
   ]
  },
  {
   "cell_type": "markdown",
   "metadata": {},
   "source": [
    "Imagine we want to represent information about the TV show Friends.  Our first step might be to go to Wikipedia to find some information."
   ]
  },
  {
   "cell_type": "markdown",
   "metadata": {},
   "source": [
    "![](./friends.png)"
   ]
  },
  {
   "cell_type": "markdown",
   "metadata": {},
   "sour